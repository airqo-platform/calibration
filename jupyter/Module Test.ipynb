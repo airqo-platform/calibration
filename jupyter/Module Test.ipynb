{
 "cells": [
  {
   "cell_type": "code",
   "execution_count": 2,
   "metadata": {},
   "outputs": [],
   "source": [
    "import numpy as np\n",
    "from calibration import placeinducingpoints, CalibrationSystem, SparseModel, Kernel\n",
    "import gpflow\n",
    "import matplotlib.pyplot as plt\n",
    "%matplotlib inline"
   ]
  },
  {
   "cell_type": "markdown",
   "metadata": {},
   "source": [
    "## Scaling Only Demo\n",
    "\n",
    "Here we have four sensors, their calibration remains constant (although the model doesn't know that)."
   ]
  },
  {
   "cell_type": "code",
   "execution_count": 3,
   "metadata": {},
   "outputs": [],
   "source": [
    "X = np.array([[3.0,0,1],\n",
    "             [4.0,0,1],\n",
    "             [5.0,0,1],\n",
    "             [6.0,1,2],\n",
    "             [7.0,1,2],\n",
    "             [8.0,1,2],\n",
    "             [9.0,1,2],\n",
    "             [1.0,2,3],\n",
    "             [2.0,2,3],\n",
    "             [3.0,2,3],\n",
    "             [10.5,2,3], \n",
    "             [14.0,3,0]])\n",
    "\n",
    "Y = np.array([[10,20],[15,30],[16,32],[30,20],[33,22],[21,14],[30,20],[20,20],[20,21],[22,23],[15,14],[20,15]])\n",
    "refsensor = np.array([1,0,0,0])\n",
    "Z = np.linspace(0,15,5)[:,None]"
   ]
  },
  {
   "cell_type": "code",
   "execution_count": 4,
   "metadata": {},
   "outputs": [
    {
     "data": {
      "image/png": "[encoded data removed]",
      "text/plain": [
       "<Figure size 432x288 with 1 Axes>"
      ]
     },
     "metadata": {
      "needs_background": "light"
     },
     "output_type": "display_data"
    }
   ],
   "source": [
    "for x in X:\n",
    "    plt.vlines(x[0],x[1],x[2])\n",
    "plt.yticks(np.arange(0,3+1),np.arange(0,3+1))\n",
    "plt.ylabel('Sensor')\n",
    "plt.xlabel('Time')\n",
    "plt.hlines(0,-1,15,'b')\n",
    "plt.xlim([-0.5,14.5])\n",
    "plt.grid()"
   ]
  },
  {
   "cell_type": "code",
   "execution_count": 5,
   "metadata": {},
   "outputs": [],
   "source": [
    "import tensorflow as tf\n",
    "import tensorflow_probability as tfp\n",
    "tfd = tfp.distributions\n",
    "psd_kernels = tfp.math.psd_kernels\n",
    "import pandas as pd\n",
    "import numpy as np\n",
    "from tensorflow_probability import distributions as tfd"
   ]
  },
  {
   "cell_type": "code",
   "execution_count": 6,
   "metadata": {},
   "outputs": [
    {
     "ename": "TypeError",
     "evalue": "__init__() missing 1 required positional argument: 'kernelindices'",
     "output_type": "error",
     "traceback": [
      "\u001b[1;31m---------------------------------------------------------------------------\u001b[0m",
      "\u001b[1;31mTypeError\u001b[0m                                 Traceback (most recent call last)",
      "\u001b[1;32m<ipython-input-6-7b2488ab6b26>\u001b[0m in \u001b[0;36m<module>\u001b[1;34m()\u001b[0m\n\u001b[0;32m      3\u001b[0m \u001b[1;33m\u001b[0m\u001b[0m\n\u001b[0;32m      4\u001b[0m \u001b[0mk\u001b[0m \u001b[1;33m=\u001b[0m \u001b[0mgpflow\u001b[0m\u001b[1;33m.\u001b[0m\u001b[0mkernels\u001b[0m\u001b[1;33m.\u001b[0m\u001b[0mRBF\u001b[0m\u001b[1;33m(\u001b[0m\u001b[1;36m1\u001b[0m\u001b[1;33m,\u001b[0m\u001b[1;36m15\u001b[0m\u001b[1;33m)\u001b[0m\u001b[1;33m+\u001b[0m\u001b[0mgpflow\u001b[0m\u001b[1;33m.\u001b[0m\u001b[0mkernels\u001b[0m\u001b[1;33m.\u001b[0m\u001b[0mBias\u001b[0m\u001b[1;33m(\u001b[0m\u001b[1;36m1\u001b[0m\u001b[1;33m)\u001b[0m\u001b[1;33m\u001b[0m\u001b[1;33m\u001b[0m\u001b[0m\n\u001b[1;32m----> 5\u001b[1;33m \u001b[0mcs\u001b[0m \u001b[1;33m=\u001b[0m \u001b[0mCalibrationSystem\u001b[0m\u001b[1;33m(\u001b[0m\u001b[0mX\u001b[0m\u001b[1;33m,\u001b[0m \u001b[0mY\u001b[0m\u001b[1;33m,\u001b[0m \u001b[0mZ\u001b[0m\u001b[1;33m,\u001b[0m \u001b[0mrefsensor\u001b[0m\u001b[1;33m,\u001b[0m \u001b[1;36m2\u001b[0m\u001b[1;33m,\u001b[0m \u001b[0mtransform_fn\u001b[0m\u001b[1;33m,\u001b[0m \u001b[0mk\u001b[0m\u001b[1;33m,\u001b[0m\u001b[0mlikelihoodstd\u001b[0m\u001b[1;33m=\u001b[0m\u001b[1;36m0.5\u001b[0m\u001b[1;33m)\u001b[0m\u001b[1;33m\u001b[0m\u001b[1;33m\u001b[0m\u001b[0m\n\u001b[0m\u001b[0;32m      6\u001b[0m \u001b[0mcs\u001b[0m\u001b[1;33m.\u001b[0m\u001b[0mrun\u001b[0m\u001b[1;33m(\u001b[0m\u001b[0mits\u001b[0m\u001b[1;33m=\u001b[0m\u001b[1;36m500\u001b[0m\u001b[1;33m)\u001b[0m\u001b[1;33m\u001b[0m\u001b[1;33m\u001b[0m\u001b[0m\n",
      "\u001b[1;31mTypeError\u001b[0m: __init__() missing 1 required positional argument: 'kernelindices'"
     ]
    }
   ],
   "source": [
    "def transform_fn(samps,Y):\n",
    "    return Y*samps[:,:,0:1]\n",
    "\n",
    "k = gpflow.kernels.RBF(1,15)+gpflow.kernels.Bias(1)\n",
    "cs = CalibrationSystem(X, Y, Z, refsensor, 2, transform_fn, k,likelihoodstd=0.5)\n",
    "cs.run(its=500)"
   ]
  },
  {
   "cell_type": "code",
   "execution_count": null,
   "metadata": {},
   "outputs": [],
   "source": [
    "#build test matrix\n",
    "C = 2\n",
    "for si,refs in enumerate(refsensor):\n",
    "    if refs: continue\n",
    "    x = np.linspace(0,15,151)\n",
    "    testX = np.zeros([0,3])\n",
    "    for ci in range(C):\n",
    "        tempX = np.c_[x,np.ones_like(x)*si,np.full_like(x,ci)]\n",
    "        testX = np.r_[testX,tempX]#.astype(int)\n",
    "    testsm = SparseModel(testX,cs.Z,C,Kernel(k))\n",
    "    qf_mu,qf_cov = testsm.get_qf(cs.mu,cs.scale)\n",
    "    samps = testsm.get_samples_one_sensor(cs.mu,cs.scale)\n",
    "\n",
    "    plt.figure(figsize=[6,4])\n",
    "    plt.plot(x,samps[:,:,0].numpy().T,'k.',alpha=0.01);\n",
    "    #plt.plot(-getsensorshift(x,np.ones_like(x).astype(int)))\n",
    "    plt.grid()\n",
    "    plt.vlines(Z[:,0],-.3,-.2)\n",
    "    plt.ylim([-.2,1.2])\n",
    "    if si==1: plt.hlines(0.5,0,15)\n",
    "    if si==2: plt.hlines(0.75,0,15)\n",
    "    if si==3: plt.hlines(0.75,0,15)\n",
    "    break"
   ]
  },
  {
   "cell_type": "code",
   "execution_count": null,
   "metadata": {},
   "outputs": [],
   "source": [
    "plt.plot(x,np.exp(samps[:,:,1].numpy().T-5),'b.',alpha=0.1);"
   ]
  },
  {
   "cell_type": "code",
   "execution_count": null,
   "metadata": {},
   "outputs": [],
   "source": [
    "testX"
   ]
  },
  {
   "cell_type": "code",
   "execution_count": null,
   "metadata": {},
   "outputs": [],
   "source": [
    "plt.plot(qf_mu[:151,0])"
   ]
  },
  {
   "cell_type": "code",
   "execution_count": null,
   "metadata": {},
   "outputs": [],
   "source": [
    "plt.plot(np.exp(qf_mu[151:,0]))"
   ]
  },
  {
   "cell_type": "markdown",
   "metadata": {},
   "source": [
    "## Linear transform demo\n",
    "\n",
    "Just two sensors, the low-cost sensor has a drift in which its offset increases over time.\n",
    "\n",
    "There is obviously some ambiguity from the model's point of view as to whether the difference between the sensors is due scaling or offset."
   ]
  },
  {
   "cell_type": "code",
   "execution_count": null,
   "metadata": {},
   "outputs": [],
   "source": [
    "X = np.c_[np.linspace(0,20,21),np.zeros(21),np.ones(21)]\n",
    "y = np.cos(X[:,0])*25+100\n",
    "Y = np.c_[y,y+X[:,0]]\n",
    "refsensor = np.array([1,0])\n",
    "Z = np.linspace(0,20,5)[:,None]"
   ]
  },
  {
   "cell_type": "code",
   "execution_count": null,
   "metadata": {},
   "outputs": [],
   "source": [
    "#def transform_fn(samps,Y):\n",
    "#    return 100*(samps[:,:,0:1]) + Y*samps[:,:,1:2] + (samps[:,:,2:3]*Y**2)/1000\n",
    "\n",
    "def transform_fn(samps,Y):\n",
    "    return 100*samps[:,:,0:1] + Y*samps[:,:,1:2]\n",
    "\n",
    "k = gpflow.kernels.RBF(1,15)+gpflow.kernels.Bias(1)\n",
    "cs = CalibrationSystem(X, Y, Z, refsensor, 2, transform_fn, k,likelihoodstd=0.05)\n",
    "cs.run(its=1000)"
   ]
  },
  {
   "cell_type": "code",
   "execution_count": null,
   "metadata": {},
   "outputs": [],
   "source": [
    "#build test matrix\n",
    "C = 2\n",
    "for si,refs in enumerate(refsensor):\n",
    "    if refs: continue\n",
    "    x = np.linspace(0,15,151)\n",
    "    testX = np.zeros([0,3])\n",
    "    for ci in range(C):\n",
    "        tempX = np.c_[x,np.ones_like(x)*si,np.full_like(x,ci)]\n",
    "        testX = np.r_[testX,tempX]#.astype(int)\n",
    "    testsm = SparseModel(testX,cs.Z,C,Kernel(k))\n",
    "    qf_mu,qf_cov = testsm.get_qf(cs.mu,cs.scale)\n",
    "    samps = testsm.get_samples_one_sensor(cs.mu,cs.scale)\n",
    "\n",
    "    plt.figure(figsize=[6,4])\n",
    "    plt.plot(x,samps[:,:,1].numpy().T,'k.',alpha=0.01);\n",
    "    plt.plot(x,100*samps[:,:,0].numpy().T,'b.',alpha=0.01);\n",
    "    #plt.plot(-getsensorshift(x,np.ones_like(x).astype(int)))\n",
    "    plt.grid()\n",
    "    plt.vlines(Z[:,0],-.3,-.2)\n",
    "    plt.ylim([-20,2])\n",
    "    plt.xlim([0,15])\n",
    "    plt.hlines(1,0,15,'k',label='scale')\n",
    "    plt.plot([0,15],[0,-15],'b-',label='offset')\n",
    "    plt.legend(loc='lower left')"
   ]
  },
  {
   "cell_type": "code",
   "execution_count": null,
   "metadata": {},
   "outputs": [],
   "source": []
  }
 ],
 "metadata": {
  "kernelspec": {
   "display_name": "Python 3",
   "language": "python",
   "name": "python3"
  },
  "language_info": {
   "codemirror_mode": {
    "name": "ipython",
    "version": 3
   },
   "file_extension": ".py",
   "mimetype": "text/x-python",
   "name": "python",
   "nbconvert_exporter": "python",
   "pygments_lexer": "ipython3",
   "version": "3.7.9"
  }
 },
 "nbformat": 4,
 "nbformat_minor": 2
}
